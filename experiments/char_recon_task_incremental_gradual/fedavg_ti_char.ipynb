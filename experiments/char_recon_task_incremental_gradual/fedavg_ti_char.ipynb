{
 "cells": [
  {
   "cell_type": "markdown",
   "metadata": {},
   "source": [
    "This setting is the federated class incremental settings."
   ]
  },
  {
   "cell_type": "code",
   "execution_count": null,
   "metadata": {},
   "outputs": [],
   "source": [
    "# Set the train parameters.\n",
    "from configs import configs\n",
    "configs['test_batchsize']=128\n",
    "configs['test_dataset_size']=1000\n",
    "configs['train_dataset_size']=5000\n",
    "configs['head_finetune_epoch']=3\n",
    "configs['train_epoch']=8\n",
    "configs['head_ft_learn_rate']=0.001\n",
    "configs['learn_rate']=0.001\n",
    "configs['train_batchsize']=128\n",
    "\n",
    "number_of_clients=10\n",
    "total_rounds=90"
   ]
  },
  {
   "cell_type": "code",
   "execution_count": null,
   "metadata": {},
   "outputs": [],
   "source": [
    "# Load the dataset.\n",
    "from fcl_data_simulator.single_dataset import MNIST,EMNIST,USPS\n",
    "mnist=MNIST()\n",
    "emnist=EMNIST()\n",
    "usps=USPS()"
   ]
  },
  {
   "cell_type": "code",
   "execution_count": null,
   "metadata": {},
   "outputs": [],
   "source": [
    "from fcl_data_simulator.continual_policy import GradualContiunalPolicy\n",
    "from fcl_data_simulator.partition_policy import PartitioningPolicies\n",
    "\n",
    "train_tasks=[usps[\"train\"],mnist[\"train\"],emnist[\"train\"]]\n",
    "test_tasks=[usps[\"test\"],mnist[\"test\"],emnist[\"test\"]]\n",
    "train_cp=GradualContiunalPolicy.create_by_task_durations_linear(train_tasks,\n",
    "                                    [0,20,50],[40,70,90],\n",
    "                                    configs['train_dataset_size'])\n",
    "test_cp=GradualContiunalPolicy.create_by_task_durations_linear(test_tasks,\n",
    "                                    [0,20,50],[40,70,90],\n",
    "                                    configs['test_dataset_size'])                                    \n",
    "\n",
    "train_partition_policy=PartitioningPolicies.dirichlet_nonIID_partitioning\n",
    "test_partition_policy=PartitioningPolicies.IID_partitioning\n",
    "partition_policy_args={\"number_of_clients\":number_of_clients}\n",
    "test_partition_policy_args={\"number_of_clients\":1}\n",
    "\n",
    "# Create the DataManager.\n",
    "from fcl_data_simulator.data_manager import DataManager\n",
    "train_data_manager=DataManager(configs[\"train_batchsize\"],train_cp,\n",
    "                    train_partition_policy,partition_policy_args)\n",
    "test_data_manager=DataManager(configs[\"test_batchsize\"],test_cp,\n",
    "                    test_partition_policy,test_partition_policy_args)\n",
    "\n",
    "print(\"The fcl data simulator is set.\")"
   ]
  },
  {
   "cell_type": "code",
   "execution_count": null,
   "metadata": {},
   "outputs": [],
   "source": [
    "import torch\n",
    "# Set the model.\n",
    "shared_model=torch.nn.Sequential(\n",
    "    torch.nn.Flatten(),\n",
    "    torch.nn.Linear(in_features=28*28,out_features=400),\n",
    "    torch.nn.ReLU(),\n",
    "    torch.nn.Linear(in_features=400,out_features=200),\n",
    "    torch.nn.ReLU(),\n",
    "    torch.nn.Linear(in_features=200,out_features=200),\n",
    ")\n",
    "# The head library.\n",
    "head_library={}"
   ]
  },
  {
   "cell_type": "code",
   "execution_count": null,
   "metadata": {},
   "outputs": [],
   "source": [
    "from baselines.fcl_fedavg_client import fcl_fedavg_client\n",
    "# Set the clients.\n",
    "clients=[fcl_fedavg_client() for _ in range(number_of_clients)]\n",
    "# The client used to test.\n",
    "pseudo_client=fcl_fedavg_client()"
   ]
  },
  {
   "cell_type": "code",
   "execution_count": null,
   "metadata": {},
   "outputs": [],
   "source": [
    "import evaluation\n",
    "from fcl_server import fcl_server\n",
    "from fcl_data_simulator.dataset_utils import sample_slice\n",
    "# Now the train process.\n",
    "\n",
    "client_accuracies=[]\n",
    "'''The accuracy of clients over rounds.'''\n",
    "server_accuracy=[]\n",
    "'''The test accuracy of the aggregated model over rounds.'''\n",
    "task_accuracies=[]\n",
    "'''The test accuracy of the aggregated model on visited tasks.'''\n",
    "\n",
    "for round in range(total_rounds):\n",
    "    client_weight=[]\n",
    "    client_model=[]\n",
    "    client_head=[]\n",
    "    client_acc=[]\n",
    "    for client_idx,client in enumerate(clients):\n",
    "        client.update_model(shared_model,head_library)\n",
    "        client.head_need_ft=False # The head_library is shared so don't need ft.\n",
    "\n",
    "        train_slice,slice_classes=train_data_manager.get_slice(client_idx)\n",
    "\n",
    "        client_weight.append(len(train_slice.dataset))\n",
    "\n",
    "        acc=client.train_model(train_slice,slice_classes,head_ft=(round!=0))\n",
    "        \n",
    "        client_acc.append(acc)\n",
    "        \n",
    "        model,head=client.get_model()\n",
    "        \n",
    "        client_model.append(model)\n",
    "        client_head.append(head)\n",
    "    \n",
    "    print(\"Round {}\".format(round))\n",
    "    print(\"\\tClient accuracies:\",client_acc)\n",
    "    client_accuracies.append(client_acc)\n",
    "    shared_model=fcl_server.aggregate_shared_model(client_model,client_weight)\n",
    "    head_library=fcl_server.aggregate_heads(client_head,client_weight)\n",
    "\n",
    "    # Now do the test.\n",
    "    pseudo_client.update_model(shared_model,head_library)\n",
    "    test_slice,test_slice_classes=test_data_manager.get_slice(0)\n",
    "    test_acc=pseudo_client.test_model(test_slice,test_slice_classes)\n",
    "    print(\"\\tTest accuracy:\",test_acc)\n",
    "    server_accuracy.append(test_acc)\n",
    "\n",
    "    # Evaluate on past tasks.\n",
    "    past_tasks=test_data_manager.get_past_tasks()\n",
    "    past_task_acc=[]\n",
    "    for past_task in past_tasks:\n",
    "        ptask_slice,ptask_classes=sample_slice(past_task,\n",
    "                                    configs['test_dataset_size'], \n",
    "                                    configs['test_batchsize'])\n",
    "        ptask_acc=pseudo_client.test_model(ptask_slice,ptask_classes)\n",
    "        past_task_acc.append(ptask_acc)\n",
    "    \n",
    "    task_accuracies.append(past_task_acc)\n",
    "\n",
    "    # Step the data manager until the last round.\n",
    "    if round!=total_rounds-1:\n",
    "        train_data_manager.next_round()\n",
    "        test_data_manager.next_round()"
   ]
  },
  {
   "cell_type": "code",
   "execution_count": null,
   "metadata": {},
   "outputs": [],
   "source": [
    "# Now dump the accuracy for future use.\n",
    "import json\n",
    "jsonstr=json.dumps({\"client_acc\":client_accuracies,\"server_acc\":server_accuracy,\"task\":task_accuracies})\n",
    "print(jsonstr)"
   ]
  }
 ],
 "metadata": {
  "interpreter": {
   "hash": "d3311224cefd6618c2e820ef9ecbdd553eb84ddf2e1c75c922a927e32a989153"
  },
  "kernelspec": {
   "display_name": "Python 3.10.4 ('fed_ltw')",
   "language": "python",
   "name": "python3"
  },
  "language_info": {
   "codemirror_mode": {
    "name": "ipython",
    "version": 3
   },
   "file_extension": ".py",
   "mimetype": "text/x-python",
   "name": "python",
   "nbconvert_exporter": "python",
   "pygments_lexer": "ipython3",
   "version": "3.10.4"
  },
  "orig_nbformat": 4
 },
 "nbformat": 4,
 "nbformat_minor": 2
}
